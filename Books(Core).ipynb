{
 "cells": [
  {
   "cell_type": "markdown",
   "id": "eac6b2be",
   "metadata": {},
   "source": [
    "# Convert CSV files to SQL files"
   ]
  },
  {
   "cell_type": "code",
   "execution_count": 1,
   "id": "60676555",
   "metadata": {},
   "outputs": [
    {
     "name": "stdout",
     "output_type": "stream",
     "text": [
      "CSV File: Authors.csv\n",
      "SQL File: Authors.sql\n",
      "CSV File: Books.csv\n",
      "SQL File: Books.sql\n",
      "CSV File: Favorites.csv\n",
      "SQL File: Favorites.sql\n",
      "CSV File: Original.csv\n",
      "SQL File: Original.sql\n",
      "CSV File: Users.csv\n",
      "SQL File: Users.sql\n"
     ]
    }
   ],
   "source": [
    "import pandas as pd\n",
    "import os\n",
    "\n",
    "# Set the directory path\n",
    "directory = \"C:/SQL/Books\"\n",
    "\n",
    "# Get a list of all CSV files in the directory\n",
    "csv_files = [file for file in os.listdir(directory) if file.endswith(\".csv\")]\n",
    "\n",
    "# Iterate over each CSV file and convert it to SQL\n",
    "for file in csv_files:\n",
    "    file_path = os.path.join(directory, file)\n",
    "    df = pd.read_csv(file_path)\n",
    "    print(\"CSV File:\", file)\n",
    "\n",
    "    # Generate SQL INSERT statements\n",
    "    table_name = file.split(\".\")[0]  # Assume the table name is the same as the CSV file name (without the extension)\n",
    "    sql_statements = []\n",
    "    for index, row in df.iterrows():\n",
    "        values = \", \".join(f\"'{value}'\" for value in row)\n",
    "        sql_statement = f\"INSERT INTO {table_name} VALUES ({values});\"\n",
    "        sql_statements.append(sql_statement)\n",
    "\n",
    "    # Write the SQL statements to an SQL file\n",
    "    sql_file_path = os.path.join(directory, f\"{table_name}.sql\")\n",
    "    with open(sql_file_path, \"w\") as sql_file:\n",
    "        sql_file.write(\"\\n\".join(sql_statements))\n",
    "\n",
    "    print(\"SQL File:\", f\"{table_name}.sql\")"
   ]
  }
 ],
 "metadata": {
  "kernelspec": {
   "display_name": "Python (dojo-env)",
   "language": "python",
   "name": "dojo-env"
  },
  "language_info": {
   "codemirror_mode": {
    "name": "ipython",
    "version": 3
   },
   "file_extension": ".py",
   "mimetype": "text/x-python",
   "name": "python",
   "nbconvert_exporter": "python",
   "pygments_lexer": "ipython3",
   "version": "3.9.15"
  },
  "toc": {
   "base_numbering": 1,
   "nav_menu": {},
   "number_sections": true,
   "sideBar": true,
   "skip_h1_title": false,
   "title_cell": "Table of Contents",
   "title_sidebar": "Contents",
   "toc_cell": false,
   "toc_position": {},
   "toc_section_display": true,
   "toc_window_display": false
  }
 },
 "nbformat": 4,
 "nbformat_minor": 5
}
